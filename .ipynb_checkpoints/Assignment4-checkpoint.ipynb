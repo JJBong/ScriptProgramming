{
 "cells": [
  {
   "cell_type": "code",
   "execution_count": 1,
   "metadata": {
    "collapsed": true
   },
   "outputs": [],
   "source": [
    "#1 파일 s.txt 내의 다음 내용과 함께 아래 문제의 코드를 제시하시오.\n",
    "string = \"\"\"pig ham\n",
    "cat dog\n",
    "ham bird\n",
    "dog pig\n",
    "\"\"\"\n",
    "f = open('s.txt', 'w')\n",
    "f.write(string) # 문자열을 파일에 기록\n",
    "f.close()"
   ]
  },
  {
   "cell_type": "code",
   "execution_count": 2,
   "metadata": {
    "collapsed": false
   },
   "outputs": [],
   "source": [
    "#1-1 파일 s.txt을 읽어서 각 라인에 있는 첫 번째 단어(문자열) 자체들을 기준으로 라인별 정렬후 파일 s1.txt에 그 결과를 기록하는 코드를 작성하시오. 즉, 프로그램 수행 후 s1.txt에 있는 파일 내용은 다음과 같다.\n",
    "f = open('s.txt')\n",
    "l = list()\n",
    "l = f.readlines()\n",
    "l.sort()\n",
    "string = \"\"\"\"\"\"\n",
    "for i in l:\n",
    "    string += i\n",
    "f = open('s1.txt', 'w')\n",
    "f.write(string)\n",
    "f.close()"
   ]
  },
  {
   "cell_type": "markdown",
   "metadata": {},
   "source": [
    "line별로 읽어서 l이란 리스트에 저장한다. 그리고 sort한 것을 저장하면 첫 번째 단어를 기준으로 txt파일에 저장이 된다."
   ]
  },
  {
   "cell_type": "code",
   "execution_count": 3,
   "metadata": {
    "collapsed": false
   },
   "outputs": [],
   "source": [
    "#1-2 파일 s.txt을 읽어서 각 라인에 있는 두 번째 단어(문자열) 자체들을 기준으로 라인별 정렬후 파일 s2.txt에 그 결과를 기록하는 코드를 작성하시오. 즉, 프로그램 수행 후 s2.txt에 있는 파일 내용은 다음과 같다.\n",
    "f = open('s.txt')\n",
    "l1 = list()\n",
    "l1 = f.readlines()\n",
    "l2 = list()\n",
    "for i in l1:\n",
    "    a = i.split()\n",
    "    a[0],a[1] = a[1], a[0]\n",
    "    l2.append(a)\n",
    "l2.sort()\n",
    "string = \"\"\"\"\"\"\n",
    "for i in l2:\n",
    "    string += i[1]+' '+i[0]+'\\n'\n",
    "f = open('s2.txt', 'w')\n",
    "f.write(string)\n",
    "f.close()"
   ]
  },
  {
   "cell_type": "markdown",
   "metadata": {},
   "source": [
    "파일을 line별로 읽은 리스트 내의 원소들의 첫 번째와 두 번째 단어의 위치를 바꿔 sort하고 파일 s2.txt에 저장하였다."
   ]
  },
  {
   "cell_type": "code",
   "execution_count": 4,
   "metadata": {
    "collapsed": true
   },
   "outputs": [],
   "source": [
    "#1-3 파일 s.txt을 읽어서 각 라인들에 있는 모든 단어들을 순차적으로 다시 나열하되 각 라인에 세 개의 단어들이 오도록 하여 s3.txt에 기록하는 코드를 작성하시오. 즉, 프로그램 수행 후 s3.txt에 있는 파일 내용은 다음과 같다.\n",
    "f = open('s.txt')\n",
    "l = f.readlines()\n",
    "string = \"\"\"\"\"\"\n",
    "cnt = 0\n",
    "for i in l:\n",
    "    a = i.split()\n",
    "    for j in range(len(a)):\n",
    "        string += a[j]\n",
    "        cnt+=1\n",
    "        if(cnt == 3):\n",
    "            string += '\\n'\n",
    "            cnt = 0\n",
    "        else:\n",
    "            string += ' '\n",
    "f = open('s3.txt', 'w')\n",
    "f.write(string)\n",
    "f.close()"
   ]
  },
  {
   "cell_type": "markdown",
   "metadata": {},
   "source": [
    "파일을 line별로 읽은 리스트를 string에 저장하는데 단어 별로 split하여 단어가 3개가 될때마다 줄바꿈 문자 '\\n'를 넣어 주어 string을 파일 s3.txt에 저장하였다."
   ]
  },
  {
   "cell_type": "code",
   "execution_count": 5,
   "metadata": {
    "collapsed": false
   },
   "outputs": [
    {
     "name": "stderr",
     "output_type": "stream",
     "text": [
      "C:\\Users\\kim\\Anaconda2\\lib\\site-packages\\ipykernel\\__main__.py:2: DeprecationWarning: the sha module is deprecated; use the hashlib module instead\n",
      "  from ipykernel import kernelapp as app\n"
     ]
    }
   ],
   "source": [
    "#2 다음과 같은 조건들을 참고하여 회원 가입 및 로그인 프로그램을 작성하시오.\n",
    "import sha\n",
    "def sign_in_and_out():\n",
    "    flag = True\n",
    "    while(flag):\n",
    "        s = \"\"\"Welcome to Our Service\n",
    "        \n",
    "            1. Sign Up\n",
    "            2. Sign In\n",
    "            3. Quit\n",
    "        \"\"\"\n",
    "        print s\n",
    "        getting = raw_input()\n",
    "        #------------------------------------------------\n",
    "        if(getting == '1'):\n",
    "            f = open('access.txt')\n",
    "            users = f.readlines()\n",
    "            f.close()\n",
    "            ids = list()\n",
    "            for i in users:\n",
    "                ids.append((i.split(':'))[0])\n",
    "            \n",
    "            print \"id : \"; idx = raw_input()\n",
    "            print \"password : \"; pw = raw_input()\n",
    "            print \"name : \"; name = raw_input()\n",
    "            print \"school : \"; school = raw_input()\n",
    "            while idx in ids:\n",
    "                print \"Sorry, the entered ID is already used.\"\n",
    "                print \"id : \"; idx = raw_input()\n",
    "                print \"password : \"; pw = raw_input()\n",
    "                print \"name : \"; name = raw_input()\n",
    "                print \"school : \"; school = raw_input()\n",
    "            pw_plain = pw\n",
    "            pw_encrypted = sha.new(pw_plain).hexdigest()\n",
    "            string = idx+\": \"+pw_encrypted+', '+name+', '+school+'\\n'\n",
    "            f = open('access.txt', 'a')\n",
    "            f.write(string)\n",
    "            f.close()\n",
    "        #----------------------------------------------------------\n",
    "        elif(getting == '2'):\n",
    "            f = open('access.txt')\n",
    "            users = f.readlines()\n",
    "            f.close()\n",
    "            ids = list()\n",
    "            pws = list()\n",
    "            names = list()\n",
    "            for i in users:\n",
    "                splited = i.split(':')\n",
    "                ids.append(splited[0])\n",
    "                sp= (splited[1]).split(',')\n",
    "                pws.append(sp[0].strip())\n",
    "                names.append(sp[1].strip())\n",
    "            print \"id : \"; log_id = raw_input()\n",
    "            print \"password : \"; log_pw = raw_input()\n",
    "            id_n = 0\n",
    "            for i in range(len(ids)):\n",
    "                if ids[i] == log_id:\n",
    "                    id_n = i\n",
    "                    break\n",
    "            while log_id not in ids:\n",
    "                print \"Sorry, you are not a registered member.\"\n",
    "                print \"id : \"; log_id = raw_input()\n",
    "                print \"password : \"; log_pw = raw_input()\n",
    "                for i in range(len(ids)):\n",
    "                    if ids[i] == log_id:\n",
    "                        id_n = i\n",
    "                        break\n",
    "            pw_plain = log_pw\n",
    "            pw_encrypted = sha.new(pw_plain).hexdigest()\n",
    "            while pw_encrypted != pws[id_n]:\n",
    "                print \"Sorry, the entered password is not correct.\"\n",
    "                print \"password : \"; log_pw = raw_input()\n",
    "                pw_plain = log_pw\n",
    "                pw_encrypted = sha.new(pw_plain).hexdigest()\n",
    "                \n",
    "            print \"Hellow \"+names[id_n]+\"!\"\n",
    "        #----------------------------------------------------------\n",
    "        elif(getting == '3'):\n",
    "            flag = False\n",
    "        else:\n",
    "            print(\"Please select number 1 to 3\")"
   ]
  },
  {
   "cell_type": "code",
   "execution_count": 6,
   "metadata": {
    "collapsed": false
   },
   "outputs": [
    {
     "name": "stdout",
     "output_type": "stream",
     "text": [
      "Welcome to Our Service\n",
      "        \n",
      "            1. Sign Up\n",
      "            2. Sign In\n",
      "            3. Quit\n",
      "        \n",
      "1\n",
      "id : \n",
      "jubong\n",
      "password : \n",
      "1234\n",
      "name : \n",
      "kim\n",
      "school : \n",
      "kut\n",
      "Sorry, the entered ID is already used.\n",
      "id : \n",
      "ju\n",
      "password : \n",
      "1234\n",
      "name : \n",
      "kimjubong\n",
      "school : \n",
      "kut\n",
      "Welcome to Our Service\n",
      "        \n",
      "            1. Sign Up\n",
      "            2. Sign In\n",
      "            3. Quit\n",
      "        \n",
      "2\n",
      "id : \n",
      "ju\n",
      "password : \n",
      "123\n",
      "Sorry, the entered password is not correct.\n",
      "password : \n",
      "1234\n",
      "Hellow kimjubong!\n",
      "Welcome to Our Service\n",
      "        \n",
      "            1. Sign Up\n",
      "            2. Sign In\n",
      "            3. Quit\n",
      "        \n",
      "3\n"
     ]
    }
   ],
   "source": [
    "sign_in_and_out()"
   ]
  },
  {
   "cell_type": "markdown",
   "metadata": {},
   "source": [
    "파일에서 id와 password 그리고 name을 읽어와 ids, pws, names라는 리스트에 각각 저장을 하여 로그인과 회원가입에서 멤버쉽테스트를\n",
    "\n",
    "통해 사용자가 id나 password를 잘못 입력할 경우 alert메시지를 주고 다시 입력하도록 1번, 2번 프로세스를 만들었다."
   ]
  },
  {
   "cell_type": "code",
   "execution_count": 7,
   "metadata": {
    "collapsed": false
   },
   "outputs": [],
   "source": [
    "#3 range() 함수와 유사한 frange() 함수를 다음 조건을 참고하여 만드시오.\n",
    "def frange(first = 0.0, second = 0.0, third = 0.1):\n",
    "    l = list()\n",
    "    if first > second:\n",
    "        second, first = first, second\n",
    "    while(first < second):\n",
    "        first = round(first,2)\n",
    "        l.append(first)\n",
    "        first+=third\n",
    "    return l"
   ]
  },
  {
   "cell_type": "code",
   "execution_count": 8,
   "metadata": {
    "collapsed": false
   },
   "outputs": [
    {
     "data": {
      "text/plain": [
       "[0.0, 0.1, 0.2, 0.3, 0.4]"
      ]
     },
     "execution_count": 8,
     "metadata": {},
     "output_type": "execute_result"
    }
   ],
   "source": [
    "frange(0.5)"
   ]
  },
  {
   "cell_type": "code",
   "execution_count": 9,
   "metadata": {
    "collapsed": false
   },
   "outputs": [
    {
     "data": {
      "text/plain": [
       "[1.0, 1.1, 1.2, 1.3, 1.4, 1.5, 1.6, 1.7, 1.8, 1.9]"
      ]
     },
     "execution_count": 9,
     "metadata": {},
     "output_type": "execute_result"
    }
   ],
   "source": [
    "frange(1.0, 2.0)"
   ]
  },
  {
   "cell_type": "code",
   "execution_count": 10,
   "metadata": {
    "collapsed": false
   },
   "outputs": [
    {
     "data": {
      "text/plain": [
       "[2.2, 2.7, 3.2, 3.7]"
      ]
     },
     "execution_count": 10,
     "metadata": {},
     "output_type": "execute_result"
    }
   ],
   "source": [
    "frange(2.2, 4.0, 0.5)"
   ]
  },
  {
   "cell_type": "markdown",
   "metadata": {},
   "source": [
    "첫 번째, 두 번째 매개변수를 0.0으로 정의하고, 세 번째 매개변수는 기본 스텝을 0.1로 주었다. 만약 매개변수로 1개만 들어오면\n",
    "\n",
    "첫 번째, 두 번째 매개변수를 스왑한다. 그리고 round함수를 통해 소수점 자리를 한정시켜 놓았다."
   ]
  },
  {
   "cell_type": "code",
   "execution_count": 11,
   "metadata": {
    "collapsed": true
   },
   "outputs": [],
   "source": [
    "#4 가변인수를 받는 함수 sum()을 다음과 같은 조건을 참고하여 구현하시오\n",
    "def sum(*arg):\n",
    "    result = 0\n",
    "    for i in arg:\n",
    "        result += i\n",
    "    return result\n"
   ]
  },
  {
   "cell_type": "code",
   "execution_count": 12,
   "metadata": {
    "collapsed": false
   },
   "outputs": [
    {
     "data": {
      "text/plain": [
       "0"
      ]
     },
     "execution_count": 12,
     "metadata": {},
     "output_type": "execute_result"
    }
   ],
   "source": [
    "sum()"
   ]
  },
  {
   "cell_type": "code",
   "execution_count": 13,
   "metadata": {
    "collapsed": false
   },
   "outputs": [
    {
     "data": {
      "text/plain": [
       "3"
      ]
     },
     "execution_count": 13,
     "metadata": {},
     "output_type": "execute_result"
    }
   ],
   "source": [
    "sum(1, 2)"
   ]
  },
  {
   "cell_type": "code",
   "execution_count": 14,
   "metadata": {
    "collapsed": false
   },
   "outputs": [
    {
     "data": {
      "text/plain": [
       "15"
      ]
     },
     "execution_count": 14,
     "metadata": {},
     "output_type": "execute_result"
    }
   ],
   "source": [
    "sum(1, 2, 3, 4, 5)"
   ]
  },
  {
   "cell_type": "code",
   "execution_count": 15,
   "metadata": {
    "collapsed": false
   },
   "outputs": [
    {
     "data": {
      "text/plain": [
       "5"
      ]
     },
     "execution_count": 15,
     "metadata": {},
     "output_type": "execute_result"
    }
   ],
   "source": [
    "sum(1, 5, 7, 2, -10)"
   ]
  },
  {
   "cell_type": "markdown",
   "metadata": {},
   "source": [
    "가변인수는 *arg를 매개변수로 받았고 for문을 돌면서 매개변수의 인자들을 더해주었다."
   ]
  },
  {
   "cell_type": "code",
   "execution_count": 16,
   "metadata": {
    "collapsed": true
   },
   "outputs": [],
   "source": [
    "#5 여러 단어로 이루어진 문자열을 입력받아 각 단어의 첫글자로 이루어진 단어를 대문자로 출력하는 myinitial() 함수를 다음 조건을 참고하여 작성하시오.\n",
    "def myinitial(string):\n",
    "    s = string.split()\n",
    "    s1 = map(lambda x: x[0].upper(), s)\n",
    "    result = ''.join(s1)\n",
    "    return result"
   ]
  },
  {
   "cell_type": "code",
   "execution_count": 17,
   "metadata": {
    "collapsed": false
   },
   "outputs": [
    {
     "data": {
      "text/plain": [
       "'ASAP'"
      ]
     },
     "execution_count": 17,
     "metadata": {},
     "output_type": "execute_result"
    }
   ],
   "source": [
    "myinitial(\"as soon as possible\")"
   ]
  },
  {
   "cell_type": "markdown",
   "metadata": {},
   "source": [
    "split(), map(), join()함수를 모두 사용하였고, 문자열을 매개변수로 받아 split해주고 map함수에서 split된 리스트의 원소의 첫 번째\n",
    "\n",
    "단어만 따와서 s1에 저장한뒤, join함수를 통해 s1을 result에 저장하였고, 마지막으로 result를 리턴시켰다."
   ]
  },
  {
   "cell_type": "code",
   "execution_count": 18,
   "metadata": {
    "collapsed": true
   },
   "outputs": [],
   "source": [
    "#6 음이 아닌 정수 n를 입력받으면 n! (factorial)을 계산하는 myfact() 함수를 재귀적 함수로 구현하시오.\n",
    "def myfact(n):\n",
    "    if n<1:\n",
    "        return 1\n",
    "    else:\n",
    "        return n*myfact(n-1)"
   ]
  },
  {
   "cell_type": "code",
   "execution_count": 19,
   "metadata": {
    "collapsed": false
   },
   "outputs": [
    {
     "data": {
      "text/plain": [
       "720"
      ]
     },
     "execution_count": 19,
     "metadata": {},
     "output_type": "execute_result"
    }
   ],
   "source": [
    "myfact(6)"
   ]
  },
  {
   "cell_type": "markdown",
   "metadata": {},
   "source": [
    "매개변수가 1보다 작다면 return 1을 통해 빠져나오고 아니라면 재귀적으로 n을 1씩 낮춰가며 함수를 n과의 곱으로 리턴시키고\n",
    "\n",
    "점차 n이 0이 되도록 구현했다."
   ]
  },
  {
   "cell_type": "code",
   "execution_count": 20,
   "metadata": {
    "collapsed": false
   },
   "outputs": [],
   "source": [
    "#7 (서술형) import string 과 from string import * 의 차이점을 설명하시오."
   ]
  },
  {
   "cell_type": "markdown",
   "metadata": {},
   "source": [
    "7번 문제: \n",
    "\n",
    "\"import string\"은 string이란 모듈을 최상위 네임스페이스에 할당하는 것이다. 여기서의 string모듈은 어떤 모듈에 속한 것인지 불분명하다.\n",
    "\n",
    "반면에 \"from string import *\"은 string모듈의 하위 모듈들을 전부 네임스페이스에 할당하는 것이다.\n",
    "\n",
    "예를 들어, import math를 하면 sqrt(10)은 오류가 난다. 네임스페이스에 math모듈이 할당 되었기 때문에, math.sqrt(10)를 통해서 math함수\n",
    "\n",
    "내의 sqrt함수를 불러와야 하기 때문이다.\n",
    "\n",
    "하지만 from math import *을 하게 되면 네임스페이스에 math함수도 추가가 되기 때문에, sqrt(10)과 같은 코딩도 오류가 나지 않게 된다."
   ]
  },
  {
   "cell_type": "code",
   "execution_count": 21,
   "metadata": {
    "collapsed": false
   },
   "outputs": [
    {
     "name": "stdout",
     "output_type": "stream",
     "text": [
      "142913828922\n"
     ]
    }
   ],
   "source": [
    "#프로젝트 오일러 10\n",
    "from math import *\n",
    "\n",
    "def isprime(n): #소수인지 아닌지 판별\n",
    "    if n == 2:\n",
    "        return True\n",
    "    if n == 3:\n",
    "        return True\n",
    "    if n == 1:\n",
    "        return False\n",
    "    if n % 2 == 0:\n",
    "        return False\n",
    "    for i in range(3, int(sqrt(n))+1, 2): \n",
    "        if n % i == 0:\n",
    "            return False\n",
    "    return True\n",
    "sum_prime = 0\n",
    "for i in range(2000000):\n",
    "    if isprime(i) == True:\n",
    "        sum_prime += i\n",
    "print sum_prime"
   ]
  },
  {
   "cell_type": "markdown",
   "metadata": {},
   "source": [
    "이제껏 많이 구해왔던 소수를 구하는 알고리즘을 직관적으로 표현했다. 그리고 2000000까지 루프를 돌며 더한다."
   ]
  },
  {
   "cell_type": "code",
   "execution_count": 22,
   "metadata": {
    "collapsed": false
   },
   "outputs": [
    {
     "name": "stdout",
     "output_type": "stream",
     "text": [
      "70600674\n"
     ]
    }
   ],
   "source": [
    "#프로젝트 오일러 11\n",
    "S = '''08 02 22 97 38 15 00 40 00 75 04 05 07 78 52 12 50 77 91 08\n",
    "49 49 99 40 17 81 18 57 60 87 17 40 98 43 69 48 04 56 62 00\n",
    "81 49 31 73 55 79 14 29 93 71 40 67 53 88 30 03 49 13 36 65\n",
    "52 70 95 23 04 60 11 42 69 24 68 56 01 32 56 71 37 02 36 91\n",
    "22 31 16 71 51 67 63 89 41 92 36 54 22 40 40 28 66 33 13 80\n",
    "24 47 32 60 99 03 45 02 44 75 33 53 78 36 84 20 35 17 12 50\n",
    "32 98 81 28 64 23 67 10 26 38 40 67 59 54 70 66 18 38 64 70\n",
    "67 26 20 68 02 62 12 20 95 63 94 39 63 08 40 91 66 49 94 21\n",
    "24 55 58 05 66 73 99 26 97 17 78 78 96 83 14 88 34 89 63 72\n",
    "21 36 23 09 75 00 76 44 20 45 35 14 00 61 33 97 34 31 33 95\n",
    "78 17 53 28 22 75 31 67 15 94 03 80 04 62 16 14 09 53 56 92\n",
    "16 39 05 42 96 35 31 47 55 58 88 24 00 17 54 24 36 29 85 57\n",
    "86 56 00 48 35 71 89 07 05 44 44 37 44 60 21 58 51 54 17 58\n",
    "19 80 81 68 05 94 47 69 28 73 92 13 86 52 17 77 04 89 55 40\n",
    "04 52 08 83 97 35 99 16 07 97 57 32 16 26 26 79 33 27 98 66\n",
    "88 36 68 87 57 62 20 72 03 46 33 67 46 55 12 32 63 93 53 69\n",
    "04 42 16 73 38 25 39 11 24 94 72 18 08 46 29 32 40 62 76 36\n",
    "20 69 36 41 72 30 23 88 34 62 99 69 82 67 59 85 74 04 36 16\n",
    "20 73 35 29 78 31 90 01 74 31 49 71 48 86 81 16 23 57 05 54\n",
    "01 70 54 71 83 51 54 69 16 92 33 48 61 43 52 01 89 19 67 48\n",
    "'''\n",
    "l = S.splitlines()\n",
    "L = list()\n",
    "for s in l:\n",
    "    L.append(s.split())\n",
    "\n",
    "#수평\n",
    "h_sum = 0\n",
    "for i in range(len(L)):\n",
    "    for j in range(len(L[i]) - 4):\n",
    "        h_temp = 1\n",
    "        for k in range(4):\n",
    "            h_temp *= int(L[i][j+k])\n",
    "        if h_sum < h_temp:\n",
    "            h_sum = h_temp\n",
    "\n",
    "#수직\n",
    "v_sum = 0\n",
    "for i in range(len(L) - 4):\n",
    "    for j in range(len(L[i])):\n",
    "        v_temp = 1\n",
    "        for k in range(4):\n",
    "            v_temp *= int(L[i+k][j])\n",
    "        if v_sum < v_temp:\n",
    "            v_sum = v_temp\n",
    "\n",
    "#대각선\n",
    "d_sum = 0\n",
    "d_sum1 = 0\n",
    "for i in range(len(L)-4):\n",
    "    for j in range(len(L[i])-4):\n",
    "        d_temp = 1\n",
    "        for k in range(4):\n",
    "            d_temp *= int(L[i+k][j+k])\n",
    "        if d_sum < d_temp:\n",
    "            d_sum = d_temp\n",
    "for i in range(3,len(L)):\n",
    "    for j in range(len(L[i])-4):\n",
    "        d_temp1 = 1\n",
    "        for k in range(4):\n",
    "            d_temp1 *= int(L[i-k][j+k])\n",
    "        if d_sum1 < d_temp1:\n",
    "            d_sum1 = d_temp1\n",
    "            \n",
    "print max(h_sum, v_sum, d_sum, d_sum1)"
   ]
  },
  {
   "cell_type": "markdown",
   "metadata": {},
   "source": [
    "수평 수직 대각선을 구하는 경우로 나누어 max(수평, 수직, 왼쪽 위 끝에서 오른쪽으로 대각, 오른쪽 위 끝에서 왼쪽으로 대각)구했다."
   ]
  },
  {
   "cell_type": "code",
   "execution_count": 23,
   "metadata": {
    "collapsed": false
   },
   "outputs": [
    {
     "name": "stdout",
     "output_type": "stream",
     "text": [
      "76576500\n"
     ]
    }
   ],
   "source": [
    "#프로젝트 오일러 12\n",
    "from math import *\n",
    "def num_divisor(n):\n",
    "    l = list()\n",
    "    for i in range(1, int(sqrt(n)+1)):\n",
    "        if n % i == 0:\n",
    "            l.append(i)\n",
    "            l.append(n/i)\n",
    "    return l\n",
    "n = 1\n",
    "num = 0\n",
    "while len(num_divisor(num)) < 500:\n",
    "    n += 1\n",
    "    num = n*(n+1)/2\n",
    "print num"
   ]
  },
  {
   "cell_type": "markdown",
   "metadata": {},
   "source": [
    "간단한 문제였다. 약수를 구하는 함수를 만들었다. num_divisor는 약수를 모두 구해 l이란 리스트에 집어넣어 리턴시키는 함수이다.\n",
    "\n",
    "그리고 while문을 통해 약수의 개수가 500개를 초과하는 삼각수를 출력하도록 하였다.\n"
   ]
  },
  {
   "cell_type": "code",
   "execution_count": 33,
   "metadata": {
    "collapsed": false
   },
   "outputs": [
    {
     "name": "stdout",
     "output_type": "stream",
     "text": [
      "5537376230\n"
     ]
    }
   ],
   "source": [
    "# 프로젝트 오일러 13\n",
    "i_string=\"\"\"37107287533902102798797998220837590246510135740250\n",
    "46376937677490009712648124896970078050417018260538\n",
    "74324986199524741059474233309513058123726617309629\n",
    "91942213363574161572522430563301811072406154908250\n",
    "23067588207539346171171980310421047513778063246676\n",
    "89261670696623633820136378418383684178734361726757\n",
    "28112879812849979408065481931592621691275889832738\n",
    "44274228917432520321923589422876796487670272189318\n",
    "47451445736001306439091167216856844588711603153276\n",
    "70386486105843025439939619828917593665686757934951\n",
    "62176457141856560629502157223196586755079324193331\n",
    "64906352462741904929101432445813822663347944758178\n",
    "92575867718337217661963751590579239728245598838407\n",
    "58203565325359399008402633568948830189458628227828\n",
    "80181199384826282014278194139940567587151170094390\n",
    "35398664372827112653829987240784473053190104293586\n",
    "86515506006295864861532075273371959191420517255829\n",
    "71693888707715466499115593487603532921714970056938\n",
    "54370070576826684624621495650076471787294438377604\n",
    "53282654108756828443191190634694037855217779295145\n",
    "36123272525000296071075082563815656710885258350721\n",
    "45876576172410976447339110607218265236877223636045\n",
    "17423706905851860660448207621209813287860733969412\n",
    "81142660418086830619328460811191061556940512689692\n",
    "51934325451728388641918047049293215058642563049483\n",
    "62467221648435076201727918039944693004732956340691\n",
    "15732444386908125794514089057706229429197107928209\n",
    "55037687525678773091862540744969844508330393682126\n",
    "18336384825330154686196124348767681297534375946515\n",
    "80386287592878490201521685554828717201219257766954\n",
    "78182833757993103614740356856449095527097864797581\n",
    "16726320100436897842553539920931837441497806860984\n",
    "48403098129077791799088218795327364475675590848030\n",
    "87086987551392711854517078544161852424320693150332\n",
    "59959406895756536782107074926966537676326235447210\n",
    "69793950679652694742597709739166693763042633987085\n",
    "41052684708299085211399427365734116182760315001271\n",
    "65378607361501080857009149939512557028198746004375\n",
    "35829035317434717326932123578154982629742552737307\n",
    "94953759765105305946966067683156574377167401875275\n",
    "88902802571733229619176668713819931811048770190271\n",
    "25267680276078003013678680992525463401061632866526\n",
    "36270218540497705585629946580636237993140746255962\n",
    "24074486908231174977792365466257246923322810917141\n",
    "91430288197103288597806669760892938638285025333403\n",
    "34413065578016127815921815005561868836468420090470\n",
    "23053081172816430487623791969842487255036638784583\n",
    "11487696932154902810424020138335124462181441773470\n",
    "63783299490636259666498587618221225225512486764533\n",
    "67720186971698544312419572409913959008952310058822\n",
    "95548255300263520781532296796249481641953868218774\n",
    "76085327132285723110424803456124867697064507995236\n",
    "37774242535411291684276865538926205024910326572967\n",
    "23701913275725675285653248258265463092207058596522\n",
    "29798860272258331913126375147341994889534765745501\n",
    "18495701454879288984856827726077713721403798879715\n",
    "38298203783031473527721580348144513491373226651381\n",
    "34829543829199918180278916522431027392251122869539\n",
    "40957953066405232632538044100059654939159879593635\n",
    "29746152185502371307642255121183693803580388584903\n",
    "41698116222072977186158236678424689157993532961922\n",
    "62467957194401269043877107275048102390895523597457\n",
    "23189706772547915061505504953922979530901129967519\n",
    "86188088225875314529584099251203829009407770775672\n",
    "11306739708304724483816533873502340845647058077308\n",
    "82959174767140363198008187129011875491310547126581\n",
    "97623331044818386269515456334926366572897563400500\n",
    "42846280183517070527831839425882145521227251250327\n",
    "55121603546981200581762165212827652751691296897789\n",
    "32238195734329339946437501907836945765883352399886\n",
    "75506164965184775180738168837861091527357929701337\n",
    "62177842752192623401942399639168044983993173312731\n",
    "32924185707147349566916674687634660915035914677504\n",
    "99518671430235219628894890102423325116913619626622\n",
    "73267460800591547471830798392868535206946944540724\n",
    "76841822524674417161514036427982273348055556214818\n",
    "97142617910342598647204516893989422179826088076852\n",
    "87783646182799346313767754307809363333018982642090\n",
    "10848802521674670883215120185883543223812876952786\n",
    "71329612474782464538636993009049310363619763878039\n",
    "62184073572399794223406235393808339651327408011116\n",
    "66627891981488087797941876876144230030984490851411\n",
    "60661826293682836764744779239180335110989069790714\n",
    "85786944089552990653640447425576083659976645795096\n",
    "66024396409905389607120198219976047599490197230297\n",
    "64913982680032973156037120041377903785566085089252\n",
    "16730939319872750275468906903707539413042652315011\n",
    "94809377245048795150954100921645863754710598436791\n",
    "78639167021187492431995700641917969777599028300699\n",
    "15368713711936614952811305876380278410754449733078\n",
    "40789923115535562561142322423255033685442488917353\n",
    "44889911501440648020369068063960672322193204149535\n",
    "41503128880339536053299340368006977710650566631954\n",
    "81234880673210146739058568557934581403627822703280\n",
    "82616570773948327592232845941706525094512325230608\n",
    "22918802058777319719839450180888072429661980811197\n",
    "77158542502016545090413245809786882778948721859617\n",
    "72107838435069186155435662884062257473692284509516\n",
    "20849603980134001723930671666823555245252804609722\n",
    "53503534226472524250874054075591789781264330331690\n",
    "\"\"\"\n",
    "splited = i_string.split()\n",
    "sum_s = 0\n",
    "for i in splited:\n",
    "    sum_s += int(i)\n",
    "print str(sum_s)[:10]"
   ]
  },
  {
   "cell_type": "markdown",
   "metadata": {},
   "source": [
    "문자열을 스플릿하고 합을 구해 10번째 문자까지 스플릿하도록 하여 답을 출력했다."
   ]
  },
  {
   "cell_type": "code",
   "execution_count": 34,
   "metadata": {
    "collapsed": false
   },
   "outputs": [
    {
     "name": "stdout",
     "output_type": "stream",
     "text": [
      "837799\n"
     ]
    }
   ],
   "source": [
    "#프로젝트 오일러 14\n",
    "count = dict()\n",
    "def mycount(n):\n",
    "    index = 1\n",
    "    index_n = n\n",
    "    while n > 1:\n",
    "        if n in count: \n",
    "            index += count[n]\n",
    "            break\n",
    "        if n % 2 == 0:\n",
    "            n /= 2\n",
    "        else: n = 3*n + 1\n",
    "        index += 1\n",
    "    count[index_n] = index\n",
    "    return index\n",
    "big = 0\n",
    "result = 0\n",
    "for i in range(1, 1000000):\n",
    "    if mycount(i) > big:\n",
    "        big = mycount(i)\n",
    "        result = i\n",
    "print result"
   ]
  },
  {
   "cell_type": "markdown",
   "metadata": {},
   "source": [
    "문제의 내용대로 직관적으로 과정을 몇 번 거치는지 구하는 mycount()함수를 만들었다. 그리고 1부터 1000000까지의 range내에서\n",
    "\n",
    "가장 과정이 많이 걸리는 수를 출력하도록 구현하였다."
   ]
  },
  {
   "cell_type": "code",
   "execution_count": 35,
   "metadata": {
    "collapsed": false
   },
   "outputs": [
    {
     "name": "stdout",
     "output_type": "stream",
     "text": [
      "137846528820\n"
     ]
    }
   ],
   "source": [
    "#프로젝트 오일러 15\n",
    "def myfact(n):\n",
    "    if n<1:\n",
    "        return 1\n",
    "    else:\n",
    "        return n*myfact(n-1)\n",
    "print myfact(40) / (myfact(20) * myfact(20))"
   ]
  },
  {
   "cell_type": "markdown",
   "metadata": {},
   "source": [
    "아주 직관적으로 2*2격자의 경우의 수는 4C2의 조합으로 표현이 된다. 다시말하면 4!/2!*2!이 경우의 수가 된다.\n",
    "\n",
    "20*20격자의 경우는 40!/20!*20!이다."
   ]
  },
  {
   "cell_type": "code",
   "execution_count": 36,
   "metadata": {
    "collapsed": true
   },
   "outputs": [],
   "source": [
    "import urllib2\n",
    "import string\n",
    "import json\n",
    "\n",
    "def remove(sentences):\n",
    "    lock = False\n",
    "    comment = False\n",
    "    end_comment = 0\n",
    "    for i in range(len(sentences)):\n",
    "        if sentences[i] == '<':\n",
    "            lock = True\n",
    "            end_comment -= 1\n",
    "            sentences[i] = ''\n",
    "        if sentences[i] == '>':\n",
    "            lock = False\n",
    "            end_comment += 1\n",
    "            sentences[i] = ''\n",
    "        if lock == True and sentences[i] == '!':\n",
    "            comment = True\n",
    "            end_comment = 0\n",
    "        if comment == True and end_comment == 1:\n",
    "            comment = False\n",
    "        if lock == True:\n",
    "            sentences[i] = ''\n",
    "        if comment == True:\n",
    "            sentences[i] = ''\n",
    "    return \"\".join(sentences)\n",
    "\n",
    "def list_pure_src(src):\n",
    "    L_source = list(src)\n",
    "    result = remove(L_source)\n",
    "    count = 0\n",
    "    text_line = result.split()\n",
    "    for i in range(0, len(text_line)):\n",
    "        count += len(text_line[i].split(' '))\n",
    "    \n",
    "    #불용어 리스트 만들기\n",
    "    f = open(\"stop_words.txt\")#이 파일안에 불용어들이 있다.\n",
    "    l = f.readlines()\n",
    "    f.close()\n",
    "    stop_words = list()\n",
    "    for i in l:\n",
    "        if i == '\\n':\n",
    "            continue\n",
    "        stop_words.append(i.strip())\n",
    "    \n",
    "    #순수 텍스트만 추출\n",
    "    result_list = []\n",
    "    for i in text_line:\n",
    "        S = ''\n",
    "        for j in range(len(i)):\n",
    "            if i[j] not in string.punctuation:\n",
    "                S += i[j]\n",
    "        if len(S) != 0 and S not in stop_words:\n",
    "            result_list.append(S)\n",
    "    return result_list\n",
    "\n",
    "#사전화 작업\n",
    "def dict_pure_num(pure_list):\n",
    "    count_word = dict()\n",
    "    for i in pure_list:\n",
    "        if i not in  count_word:\n",
    "            count_word[i] = 1\n",
    "        else:\n",
    "            count_word[i] += 1\n",
    "    return count_word"
   ]
  },
  {
   "cell_type": "code",
   "execution_count": 39,
   "metadata": {
    "collapsed": false
   },
   "outputs": [
    {
     "name": "stdout",
     "output_type": "stream",
     "text": [
      "('function', 'CNN', '0')\n",
      "('The', 'raquo', 'Trump')\n",
      "('nbsp', 'VK', 'version')\n",
      "('var', '0', 'requires')\n",
      "('Amazon', 'Prime', 'Your')\n"
     ]
    }
   ],
   "source": [
    "import pickle\n",
    "def save_file(url):\n",
    "    source = urllib2.urlopen(url).read()\n",
    "    url_name = url.split(\"//\")\n",
    "    file_name = url_name[1] + \".html.txt\"\n",
    "    \n",
    "    f = open(\"myGoogle/\"+file_name, 'w')\n",
    "    f.write(source) # 문자열을 파일에 기록\n",
    "    f.close()\n",
    "    \n",
    "    frequency_dict = dict_pure_num(list_pure_src(source))\n",
    "    \n",
    "    file_name_frequency = url_name[1] + \".frequency.txt\"\n",
    "    \n",
    "    f = open(\"myGoogle/\"+file_name_frequency, 'w')\n",
    "    pickle.dump(frequency_dict, f) # 단어 빈도 사전을 파일에 기록\n",
    "    f.close()\n",
    "    f = open(\"myGoogle/\"+file_name_frequency)\n",
    "    dict_freq = pickle.load(f) # 단어 빈도 사전 로드\n",
    "    f.close()\n",
    "\n",
    "    dict_keys = dict_freq.keys()\n",
    "    dict_values = dict_freq.values()\n",
    "\n",
    "    for i in range(len(dict_values)-1):\n",
    "        for j in range(len(dict_values)-i-1):\n",
    "            if dict_values[j] < dict_values[j+1]:\n",
    "                dict_values[j], dict_values[j+1] = dict_values[j+1], dict_values[j]\n",
    "                dict_keys[j], dict_keys[j+1] = dict_keys[j+1], dict_keys[j]\n",
    "                \n",
    "    return dict_keys[0], dict_keys[1], dict_keys[2] #상위 3개의 빈도를 가진 단어 리턴\n",
    "\n",
    "urls = [\"http://www.cnn.com\", \"http://www.nytimes.com\", \"https://vk.com\", \"https://www.yahoo.com\", \"https://www.amazon.com\"]\n",
    "print save_file(urls[0])\n",
    "print save_file(urls[1])\n",
    "print save_file(urls[2])\n",
    "print save_file(urls[3])\n",
    "print save_file(urls[4])"
   ]
  },
  {
   "cell_type": "code",
   "execution_count": 40,
   "metadata": {
    "collapsed": true
   },
   "outputs": [],
   "source": [
    "def my_google(urls): #나의 검색엔진\n",
    "    ask = raw_input()\n",
    "    similarity = dict() #유사도 사전\n",
    "    for i in range(len(urls)):\n",
    "        similar_x = 1\n",
    "        url_name = urls[i].split(\"//\")\n",
    "        file_name_frequency = url_name[1] + \".frequency.txt\"\n",
    "        f = open(\"myGoogle/\"+file_name_frequency)\n",
    "        dict_freq = pickle.load(f) # 단어 빈도 사전 로드\n",
    "        f.close()\n",
    "        dict_keys = dict_freq.keys()\n",
    "        dict_values = dict_freq.values()\n",
    "\n",
    "        for j in range(len(dict_values)-1):\n",
    "            for k in range(len(dict_values)-j-1):\n",
    "                if dict_values[k] < dict_values[k+1]:\n",
    "                    dict_values[k], dict_values[k+1] = dict_values[k+1], dict_values[k]\n",
    "                    dict_keys[k], dict_keys[k+1] = dict_keys[k+1], dict_keys[k]\n",
    "        #단어의 빈출 수를 곱한다. 일치하면 빈출수*2를 더하고 포함되면 빈출수*1을 더한다.\n",
    "        for j in range(len(dict_keys)):\n",
    "            if ask == dict_keys[j]:\n",
    "                similar_x += dict_values[j]*2\n",
    "            elif ask in dict_keys[j]:\n",
    "                similar_x += dict_values[j]\n",
    "        similarity[urls[i]] = similar_x\n",
    "    return similarity"
   ]
  },
  {
   "cell_type": "code",
   "execution_count": 41,
   "metadata": {
    "collapsed": false
   },
   "outputs": [
    {
     "name": "stdout",
     "output_type": "stream",
     "text": [
      "news\n",
      "http://www.cnn.com\n",
      "https://www.yahoo.com\n",
      "http://www.nytimes.com\n",
      "https://www.amazon.com\n",
      "https://vk.com\n"
     ]
    }
   ],
   "source": [
    "similarity = my_google(urls)\n",
    "\n",
    "s_keys = similarity.keys()\n",
    "s_values = similarity.values()\n",
    "\n",
    "for j in range(len(s_values)-1):\n",
    "    for k in range(len(s_values)-j-1):\n",
    "        if s_values[k] < s_values[k+1]:\n",
    "            s_values[k], s_values[k+1] = s_values[k+1], s_values[k]\n",
    "            s_keys[k], s_keys[k+1] = s_keys[k+1], s_keys[k]\n",
    "for i in s_keys:\n",
    "    print i"
   ]
  },
  {
   "cell_type": "markdown",
   "metadata": {},
   "source": [
    "3가지 추가 되었으면 좋겠다고 생각하는 사항...\n",
    "\n",
    "1. index페이지만 긁어오는 문제점.. --> 초기 페이지만이 아닌 해당 웹서버가 가지고 있는 다른 페이지도 검색해야 할 것 같다.\n",
    "\n",
    "2. 사람들이 어떤 검색어로 해당 페이지를 검색해서 들어왔는지도 알아야 할 것 같다.\n",
    "\n",
    "3. 위의 1, 2와 더불어 해당 페이지에서 사람들이 어떤 내용을 검색 해왔는지 분석하여 기록하여야 할 것 같다."
   ]
  },
  {
   "cell_type": "markdown",
   "metadata": {},
   "source": [
    "느낀점: 과제를 하면서...\n",
    "\n",
    "무심코 과제의 지시대로 만들었던 프로그램이 동작하여 내가 입력한 news라는 문자열만 가지고 어떠한 웹페이지가 가장 근접한지를 \n",
    "\n",
    "뽑아내는 것을 보고, 데이터의 힘을 느꼇다. 알고리즘이 문제가 아니라 어떤 생각을 가지고 데이터를 어떻게 많이 모으는가가\n",
    "\n",
    "중요한 것을 새삼 다시 깨닫게 되었다."
   ]
  }
 ],
 "metadata": {
  "anaconda-cloud": {},
  "kernelspec": {
   "display_name": "Python [default]",
   "language": "python",
   "name": "python2"
  },
  "language_info": {
   "codemirror_mode": {
    "name": "ipython",
    "version": 2
   },
   "file_extension": ".py",
   "mimetype": "text/x-python",
   "name": "python",
   "nbconvert_exporter": "python",
   "pygments_lexer": "ipython2",
   "version": "2.7.12"
  }
 },
 "nbformat": 4,
 "nbformat_minor": 0
}

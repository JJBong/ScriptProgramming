{
 "cells": [
  {
   "cell_type": "markdown",
   "metadata": {},
   "source": [
    "# Learning Tensorflow Basic"
   ]
  },
  {
   "cell_type": "code",
   "execution_count": 2,
   "metadata": {
    "collapsed": true
   },
   "outputs": [],
   "source": [
    "import tensorflow as tf"
   ]
  },
  {
   "cell_type": "code",
   "execution_count": 3,
   "metadata": {
    "collapsed": true
   },
   "outputs": [],
   "source": [
    "x = tf.constant([30, 40, 45], name = 'x')\n",
    "y = tf.Variable(x + 5, name = 'y')"
   ]
  },
  {
   "cell_type": "code",
   "execution_count": 4,
   "metadata": {
    "collapsed": false
   },
   "outputs": [
    {
     "name": "stdout",
     "output_type": "stream",
     "text": [
      "[35 45 50]\n"
     ]
    }
   ],
   "source": [
    "model = tf.global_variables_initializer()\n",
    "\n",
    "with tf.Session() as session:\n",
    "    session.run(model)\n",
    "    print(session.run(y))"
   ]
  },
  {
   "cell_type": "code",
   "execution_count": null,
   "metadata": {
    "collapsed": true
   },
   "outputs": [],
   "source": []
  },
  {
   "cell_type": "code",
   "execution_count": 5,
   "metadata": {
    "collapsed": true
   },
   "outputs": [],
   "source": [
    "import numpy as np"
   ]
  },
  {
   "cell_type": "code",
   "execution_count": 6,
   "metadata": {
    "collapsed": false
   },
   "outputs": [
    {
     "name": "stdout",
     "output_type": "stream",
     "text": [
      "[3237725 2420007 3678261 ..., 1932569  709529  161475]\n"
     ]
    }
   ],
   "source": [
    "x = np.random.randint(1000, size = 10000)\n",
    "y = tf.Variable(5*x*x - 3*x + 15, name = 'y')\n",
    "\n",
    "model = tf.global_variables_initializer()\n",
    "\n",
    "with tf.Session() as session:\n",
    "    session.run(model)\n",
    "    print(session.run(y))"
   ]
  },
  {
   "cell_type": "code",
   "execution_count": null,
   "metadata": {
    "collapsed": true
   },
   "outputs": [],
   "source": []
  },
  {
   "cell_type": "code",
   "execution_count": 7,
   "metadata": {
    "collapsed": false
   },
   "outputs": [
    {
     "name": "stdout",
     "output_type": "stream",
     "text": [
      "1\n",
      "2\n",
      "3\n",
      "4\n",
      "5\n"
     ]
    }
   ],
   "source": [
    "x = tf.Variable(0, name='x')\n",
    "\n",
    "model = tf.global_variables_initializer()\n",
    "\n",
    "with tf.Session() as session:\n",
    "    for i in range(5):\n",
    "        session.run(model)\n",
    "        x = x + 1\n",
    "        print(session.run(x))"
   ]
  },
  {
   "cell_type": "code",
   "execution_count": null,
   "metadata": {
    "collapsed": true
   },
   "outputs": [],
   "source": []
  },
  {
   "cell_type": "code",
   "execution_count": 22,
   "metadata": {
    "collapsed": false
   },
   "outputs": [
    {
     "name": "stdout",
     "output_type": "stream",
     "text": [
      "5\n",
      "536\n",
      "779\n",
      "1636\n",
      "2299\n",
      "3197\n",
      "3441\n",
      "4386\n",
      "5322\n",
      "5703\n",
      "6089\n",
      "6237\n",
      "7078\n",
      "7323\n",
      "7398\n",
      "8332\n",
      "8448\n",
      "8960\n",
      "9727\n",
      "10379\n",
      "10695\n",
      "10951\n",
      "11553\n",
      "11649\n",
      "11987\n",
      "12131\n",
      "12231\n",
      "12869\n",
      "13670\n",
      "14063\n",
      "14131\n",
      "14817\n",
      "15776\n",
      "16313\n",
      "17039\n",
      "17758\n",
      "17969\n",
      "18791\n",
      "19094\n",
      "19101\n",
      "19851\n",
      "20744\n",
      "21477\n",
      "22443\n",
      "22654\n",
      "23517\n",
      "24358\n",
      "24458\n",
      "24517\n",
      "25330\n",
      "26016\n",
      "26049\n",
      "26850\n",
      "27757\n",
      "28093\n",
      "28718\n",
      "29524\n",
      "30370\n",
      "30462\n",
      "31161\n",
      "31967\n",
      "32590\n",
      "32850\n",
      "33029\n",
      "33757\n",
      "34047\n",
      "34680\n",
      "35588\n",
      "36567\n",
      "37147\n",
      "37880\n",
      "38386\n",
      "38733\n",
      "39194\n",
      "39602\n",
      "39795\n",
      "40548\n",
      "40757\n",
      "40829\n",
      "41395\n",
      "41968\n",
      "42050\n",
      "42311\n",
      "43266\n",
      "43663\n",
      "44625\n",
      "45220\n",
      "46198\n",
      "46232\n",
      "46766\n",
      "47544\n",
      "48035\n",
      "48770\n",
      "48831\n",
      "49082\n",
      "49478\n",
      "49867\n",
      "50272\n",
      "50488\n",
      "50842\n",
      "508\n"
     ]
    }
   ],
   "source": [
    "x = np.random.randint(1000, size = 100)\n",
    "y = tf.Variable(0, name = 'y')\n",
    "\n",
    "model = tf.global_variables_initializer()\n",
    "\n",
    "with tf.Session() as session:\n",
    "    for i in range(len(x)):\n",
    "        session.run(model)\n",
    "        y += x[i]\n",
    "        print(session.run(y))\n",
    "    y /= 100\n",
    "    print(session.run(y))"
   ]
  },
  {
   "cell_type": "code",
   "execution_count": null,
   "metadata": {
    "collapsed": true
   },
   "outputs": [],
   "source": []
  },
  {
   "cell_type": "code",
   "execution_count": 23,
   "metadata": {
    "collapsed": false
   },
   "outputs": [
    {
     "name": "stdout",
     "output_type": "stream",
     "text": [
      "Tensor(\"x_2:0\", shape=(), dtype=int32)\n",
      "WARNING:tensorflow:From <ipython-input-23-fc8f2a85b7e2>:8 in <module>.: initialize_all_variables (from tensorflow.python.ops.variables) is deprecated and will be removed after 2017-03-02.\n",
      "Instructions for updating:\n",
      "Use `tf.global_variables_initializer` instead.\n",
      "40\n"
     ]
    }
   ],
   "source": [
    "x = tf.constant(35, name='x')\n",
    "print(x)\n",
    "y = tf.Variable(x + 5, name='y')\n",
    "\n",
    "with tf.Session() as session:\n",
    "    merged = tf.merge_all_summaries()\n",
    "    writer = tf.train.SummaryWriter(\"/tmp/basic\", session.graph)\n",
    "    model = tf.initialize_all_variables()\n",
    "    session.run(model)\n",
    "    print(session.run(y))"
   ]
  }
 ],
 "metadata": {
  "anaconda-cloud": {},
  "kernelspec": {
   "display_name": "Python [conda env:tensorflow]",
   "language": "python",
   "name": "conda-env-tensorflow-py"
  },
  "language_info": {
   "codemirror_mode": {
    "name": "ipython",
    "version": 2
   },
   "file_extension": ".py",
   "mimetype": "text/x-python",
   "name": "python",
   "nbconvert_exporter": "python",
   "pygments_lexer": "ipython2",
   "version": "2.7.12"
  }
 },
 "nbformat": 4,
 "nbformat_minor": 1
}
